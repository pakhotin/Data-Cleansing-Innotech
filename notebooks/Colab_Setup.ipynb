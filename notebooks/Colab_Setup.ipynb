{
  "nbformat": 4,
  "nbformat_minor": 0,
  "metadata": {
    "kernelspec": {
      "display_name": "Python 3",
      "language": "python",
      "name": "python3"
    },
    "language_info": {
      "codemirror_mode": {
        "name": "ipython",
        "version": 3
      },
      "file_extension": ".py",
      "mimetype": "text/x-python",
      "name": "python",
      "nbconvert_exporter": "python",
      "pygments_lexer": "ipython3",
      "version": "3.7.5"
    },
    "colab": {
      "name": "Colab_Setup.ipynb",
      "provenance": [],
      "include_colab_link": true
    }
  },
  "cells": [
    {
      "cell_type": "markdown",
      "metadata": {
        "id": "view-in-github",
        "colab_type": "text"
      },
      "source": [
        "<a href=\"https://colab.research.google.com/github/pakhotin/Data-Cleansing-Innotech/blob/master/notebooks/Colab_Setup.ipynb\" target=\"_parent\"><img src=\"https://colab.research.google.com/assets/colab-badge.svg\" alt=\"Open In Colab\"/></a>"
      ]
    },
    {
      "cell_type": "markdown",
      "metadata": {
        "id": "lv55mTc_hDZg",
        "colab_type": "text"
      },
      "source": [
        "## Setup Google Colab Environment"
      ]
    },
    {
      "cell_type": "code",
      "metadata": {
        "id": "Ar0hLZ6lhDZm",
        "colab_type": "code",
        "colab": {
          "base_uri": "https://localhost:8080/",
          "height": 129
        },
        "outputId": "1238ab0d-5b80-4e61-e82c-6810dddd7d79"
      },
      "source": [
        "from google.colab import drive\n",
        "drive.mount('/content/drive/')"
      ],
      "execution_count": 1,
      "outputs": [
        {
          "output_type": "stream",
          "text": [
            "Go to this URL in a browser: https://accounts.google.com/o/oauth2/auth?client_id=947318989803-6bn6qk8qdgf4n4g3pfee6491hc0brc4i.apps.googleusercontent.com&redirect_uri=urn%3Aietf%3Awg%3Aoauth%3A2.0%3Aoob&scope=email%20https%3A%2F%2Fwww.googleapis.com%2Fauth%2Fdocs.test%20https%3A%2F%2Fwww.googleapis.com%2Fauth%2Fdrive%20https%3A%2F%2Fwww.googleapis.com%2Fauth%2Fdrive.photos.readonly%20https%3A%2F%2Fwww.googleapis.com%2Fauth%2Fpeopleapi.readonly&response_type=code\n",
            "\n",
            "Enter your authorization code:\n",
            "··········\n",
            "Mounted at /content/drive/\n"
          ],
          "name": "stdout"
        }
      ]
    },
    {
      "cell_type": "code",
      "metadata": {
        "id": "TWu3rFwahDZx",
        "colab_type": "code",
        "colab": {
          "base_uri": "https://localhost:8080/",
          "height": 35
        },
        "outputId": "28e6e0d1-7fec-4cef-8aa3-82e6f7d3dad8"
      },
      "source": [
        "%cd /content/drive/'My Drive'"
      ],
      "execution_count": 2,
      "outputs": [
        {
          "output_type": "stream",
          "text": [
            "/content/drive/My Drive\n"
          ],
          "name": "stdout"
        }
      ]
    },
    {
      "cell_type": "code",
      "metadata": {
        "id": "WC086nLkhDZ6",
        "colab_type": "code",
        "colab": {}
      },
      "source": [
        "!git clone https://github.com/pakhotin/Data-Cleansing-Innotech.git"
      ],
      "execution_count": 0,
      "outputs": []
    },
    {
      "cell_type": "code",
      "metadata": {
        "id": "PU_MGPpNhDaB",
        "colab_type": "code",
        "colab": {
          "base_uri": "https://localhost:8080/",
          "height": 35
        },
        "outputId": "0d42631a-fb90-45ec-e719-2c26459dbda2"
      },
      "source": [
        "%cd Data-Cleansing-Innotech"
      ],
      "execution_count": 3,
      "outputs": [
        {
          "output_type": "stream",
          "text": [
            "/content/drive/My Drive/Data-Cleansing-Innotech\n"
          ],
          "name": "stdout"
        }
      ]
    },
    {
      "cell_type": "code",
      "metadata": {
        "id": "txkVMR7LhDaI",
        "colab_type": "code",
        "colab": {}
      },
      "source": [
        "!git add notebooks/Colab_Setup.ipynb\n",
        "!git add notebooks/Demo.ipynb"
      ],
      "execution_count": 0,
      "outputs": []
    },
    {
      "cell_type": "code",
      "metadata": {
        "id": "OiVb8DhdhDaO",
        "colab_type": "code",
        "colab": {
          "base_uri": "https://localhost:8080/",
          "height": 127
        },
        "outputId": "69fde6dd-5969-4040-ffca-856635a3ece7"
      },
      "source": [
        "!git commit notebooks/Colab_Setup.ipynb -m \"Submission from Colab\"\n",
        "!git commit notebooks/Demo.ipynb -m \"Submission from Colab\""
      ],
      "execution_count": 8,
      "outputs": [
        {
          "output_type": "stream",
          "text": [
            "[master 7db6b08] Submission from Colab\n",
            " 1 file changed, 1 insertion(+), 106 deletions(-)\n",
            " rewrite notebooks/Colab_Setup.ipynb (100%)\n",
            "[master 7e5f55c] Submission from Colab\n",
            " 1 file changed, 1 insertion(+), 63 deletions(-)\n",
            " rewrite notebooks/Demo.ipynb (100%)\n"
          ],
          "name": "stdout"
        }
      ]
    },
    {
      "cell_type": "code",
      "metadata": {
        "id": "gNnF0gzQhDaU",
        "colab_type": "code",
        "colab": {
          "base_uri": "https://localhost:8080/",
          "height": 35
        },
        "outputId": "66eb9ede-4563-434e-d6f5-2c225e58a3b5"
      },
      "source": [
        "!git push https://github.com/pakhotin/Data-Cleansing-Innotech.git"
      ],
      "execution_count": 34,
      "outputs": [
        {
          "output_type": "stream",
          "text": [
            "fatal: could not read Username for 'https://github.com': No such device or address\n"
          ],
          "name": "stdout"
        }
      ]
    },
    {
      "cell_type": "code",
      "metadata": {
        "id": "VxLwbhN2hpQ7",
        "colab_type": "code",
        "colab": {}
      },
      "source": [
        "!git config --global user.email \"pakhotin@gmail.com\"\n",
        "!git config --global user.name \"pakhotin\""
      ],
      "execution_count": 0,
      "outputs": []
    },
    {
      "cell_type": "code",
      "metadata": {
        "id": "NjFrja6Phwnr",
        "colab_type": "code",
        "colab": {}
      },
      "source": [
        "!git config --global url.\"https://github.com\".insteadOf \"git@github.com:\""
      ],
      "execution_count": 0,
      "outputs": []
    },
    {
      "cell_type": "code",
      "metadata": {
        "id": "aZowX5Snj7MO",
        "colab_type": "code",
        "colab": {
          "base_uri": "https://localhost:8080/",
          "height": 35
        },
        "outputId": "d3de5f97-5bd0-4cdb-a869-91f81f9fe655"
      },
      "source": [
        "!git pull"
      ],
      "execution_count": 30,
      "outputs": [
        {
          "output_type": "stream",
          "text": [
            "Already up to date.\n"
          ],
          "name": "stdout"
        }
      ]
    }
  ]
}